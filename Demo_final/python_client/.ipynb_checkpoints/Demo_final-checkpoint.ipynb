{
 "cells": [
  {
   "cell_type": "markdown",
   "id": "cellular-finnish",
   "metadata": {},
   "source": [
    "# Finale Demo für Geosoft II WiSe 2020/21\n",
    "\n",
    "Dies ist die finale Demo für den Kurs \"Geosoftware II\" im Wintersemester 2020/21. Dieses Notebook stellt den ersten Teil dar. Hier ist der Aufbau der Demonstration:\n",
    "\n",
    "0. Docker Compose ausführen:\n",
    "- Im docker-compose.yml unter `/demo_final` die Eingangsdaten der Sentinelhub eintragen\n",
    "- In den Ordner `demo_final` gehen und ein Terminal öffnen\n",
    "- `docker-compose up` ausführen\n",
    "- So werden die SST Daten von den Jahren 1981/82 herunter geladen (⚠️ 1981 erst ab September) und die Sentinelbilder für den Juni 2020\n",
    "- Wenn der Download abgeschlossen ist, die docker-compose.yml umschreiben zu:\n",
    "```YML\n",
    "  database:\n",
    "    image: felixgi1516/geosoft2_dataserver:latest\n",
    "    environment:\n",
    "      - DOCKER=True\n",
    "      - Username=<SENTINEL HUB USER NAME>\n",
    "      - Password=<SENTINEL HUB PASSWORT>\n",
    "      - load_sst=False\n",
    "      - load_sentinel=False\n",
    "      - SST_Start=1981\n",
    "      - SST_End=1982\n",
    "      - Sentinel_Start=2020-06-01T00:00:00Z\n",
    "      - Sentinel_End=2020-07-01T00:00:00Z\n",
    "      - process_name=processManager\n",
    "```\n",
    "- Damit der Download nicht bei jedem Start ausgeführt wird \n",
    "\n",
    "1. Dieses Notebook: **openEO Python client**\n",
    "- siehe unten\n",
    "2. R Skript unter `demo_final/r_client`: **openEO R client**\n",
    "- siehe Dokumentation im Skript\n",
    "3. express Anwendung unter `demo_final/js_client`: **openEO JavaScript client**\n",
    "- Shell im Ordner öffnen\n",
    "- `npm install` ausführen\n",
    "- `npm start` ausführen\n",
    "- Auf `http://localhost:5000` im Browser gehen und die HTML Seite nutzen\n",
    "- ⚠️ Wichtig bei der Datumsauswahl nicht über den heruntergeladenen Zeitraum gehen, sonst kann es zu Problemen kommen. \n",
    "4. QGIS openEO Plugin [Anleitung zur Installation](https://openeo.org/documentation/1.0/qgis/#installation)\n",
    "- Auf das Plugin Symbol klicken und `http://localhost/api/v1` in das Fenster eintragen und auf *Login* klicken\n",
    " \n",
    " Für die Nutzung aller Teile ist es nötig das die Anwendung im Hintergrund läuft! "
   ]
  },
  {
   "cell_type": "code",
   "execution_count": null,
   "id": "coated-canvas",
   "metadata": {},
   "outputs": [],
   "source": [
    "# Import der Packete \n",
    "import openeo \n",
    "import json\n",
    "import xarray as xr\n",
    "import hvplot.xarray"
   ]
  },
  {
   "cell_type": "code",
   "execution_count": null,
   "id": "known-consideration",
   "metadata": {},
   "outputs": [],
   "source": [
    "# Verbindung zum Backend aufbauen\n",
    "con = openeo.connect(\"http://localhost/api/v1/\")"
   ]
  },
  {
   "cell_type": "code",
   "execution_count": null,
   "id": "suitable-adapter",
   "metadata": {},
   "outputs": [],
   "source": [
    "# Auflisten der Collections\n",
    "collections = con.list_collections()\n",
    "print(json.dumps(collections, indent = 2))"
   ]
  },
  {
   "cell_type": "code",
   "execution_count": null,
   "id": "typical-seeking",
   "metadata": {},
   "outputs": [],
   "source": [
    "# Prozesse auflisten\n",
    "processes = con.list_processes()\n",
    "print(json.dumps(processes, indent = 2))"
   ]
  },
  {
   "cell_type": "code",
   "execution_count": null,
   "id": "statewide-designation",
   "metadata": {},
   "outputs": [],
   "source": [
    "# Namen der Prozesse\n",
    "print([process[\"id\"] for process in con.list_processes()])"
   ]
  },
  {
   "cell_type": "code",
   "execution_count": null,
   "id": "different-ireland",
   "metadata": {},
   "outputs": [],
   "source": [
    "# Namen der Collections\n",
    "print([process[\"id\"] for process in con.list_collections()])"
   ]
  },
  {
   "cell_type": "code",
   "execution_count": null,
   "id": "cordless-clock",
   "metadata": {},
   "outputs": [],
   "source": [
    "# Kreation eines SST Jobs\n",
    "con.create_job(title='SST Test', description='Cool' ,process_graph={  \n",
    "      'loadcollection1': {\n",
    "        'process_id': 'load_collection',\n",
    "        'arguments': {\n",
    "          'timeframe' : ['01-12-1981 00:00:00','31-12-1981 00:00:00','%d-%m-%Y %H:%M:%S'],\n",
    "          'DataType': 'SST'\n",
    "        }\n",
    "        },\n",
    "        'SST': {\n",
    "        'process_id': 'mean_sst',\n",
    "        'arguments': {\n",
    "          'data':{\n",
    "              'from_node': 'loadcollection1'\n",
    "          },\n",
    "          'timeframe':['1981-12-01','1981-12-31'],\n",
    "          'bbox':[0.125,30,35,89.875]\n",
    "          }\n",
    "        },\n",
    "        'save':{\n",
    "            'process_id': 'save_result',\n",
    "            'arguments':{\n",
    "                'SaveData':{\n",
    "                    'from_node':'SST'\n",
    "                },\n",
    "                'Format': 'netcdf'\n",
    "            }\n",
    "        }\n",
    "      })"
   ]
  },
  {
   "cell_type": "code",
   "execution_count": null,
   "id": "straight-globe",
   "metadata": {},
   "outputs": [],
   "source": [
    "# Kreation eines NDVI Jobs\n",
    "con.create_job(title='NDVI Test 2', description='Let me live' ,process_graph={\n",
    "      \"loadcollection1\": {\n",
    "        \"process_id\": \"load_collection\",\n",
    "        \"arguments\": {\n",
    "          \"timeframe\" : [\"13-06-2020 00:00:00\",\"13-06-2020 00:00:00\",\"%d-%m-%Y %H:%M:%S\"],\n",
    "          \"DataType\": \"Sentinel2\"\n",
    "        }\n",
    "        },\n",
    "        \"ndvi\": {\n",
    "        \"process_id\": \"ndvi\",\n",
    "        \"arguments\": {\n",
    "          \"data\":{\n",
    "              \"from_node\": \"loadcollection1\"\n",
    "          },\n",
    "        \"bb\": [-999,-999,-999,-999]\n",
    "        }\n",
    "        },\n",
    "        \"save\":{\n",
    "            \"process_id\": \"save_result\",\n",
    "            \"arguments\":{\n",
    "                \"SaveData\":{\n",
    "                    \"from_node\":\"ndvi\"\n",
    "                },\n",
    "                \"Format\": \"netcdf\"\n",
    "            }\n",
    "        }\n",
    "      })"
   ]
  },
  {
   "cell_type": "code",
   "execution_count": null,
   "id": "heated-approval",
   "metadata": {},
   "outputs": [],
   "source": [
    "#Auflisten der Jobs\n",
    "print([process[\"id\"] for process in con.list_jobs()])\n",
    "con.list_jobs()"
   ]
  },
  {
   "cell_type": "code",
   "execution_count": null,
   "id": "charming-syndicate",
   "metadata": {},
   "outputs": [],
   "source": [
    "#Id des letzt erstellten Jobs bekommen und ihn starten\n",
    "myId = con.list_jobs()[-1]['id']\n",
    "myJob = con.job(myId)\n",
    "myJob.start_job()"
   ]
  },
  {
   "cell_type": "code",
   "execution_count": null,
   "id": "joint-peace",
   "metadata": {},
   "outputs": [],
   "source": [
    "# Result eines NDVI Jobs laden \n",
    "myRes = myJob.get_result()\n",
    "download_path = myRes.download_file()\n",
    "img = xr.open_dataset(myRes.download_file())\n",
    "img['__xarray_dataarray_variable__']= img['__xarray_dataarray_variable__'] * -1\n",
    "img.__xarray_dataarray_variable__[380:480,1000:1098].hvplot('lon', 'lat',title='NDVI Muenster June 2020', frame_height=500, frame_width=490, cmap='BrBG')"
   ]
  },
  {
   "cell_type": "code",
   "execution_count": null,
   "id": "constant-correlation",
   "metadata": {},
   "outputs": [],
   "source": [
    "# Result eines SST Jobs laden\n",
    "myRes = myJob.get_result()\n",
    "download_path = myRes.download_file()\n",
    "img = xr.open_dataset(myRes.download_file())\n",
    "img.hvplot(title=\"Mean SST Europe December 1981\",frame_height=500, frame_width=350, cmap=\"coolwarm\")"
   ]
  },
  {
   "cell_type": "code",
   "execution_count": null,
   "id": "pursuant-currency",
   "metadata": {},
   "outputs": [],
   "source": []
  }
 ],
 "metadata": {
  "kernelspec": {
   "display_name": "product_owner",
   "language": "python",
   "name": "product_owner"
  },
  "language_info": {
   "codemirror_mode": {
    "name": "ipython",
    "version": 3
   },
   "file_extension": ".py",
   "mimetype": "text/x-python",
   "name": "python",
   "nbconvert_exporter": "python",
   "pygments_lexer": "ipython3",
   "version": "3.8.5"
  }
 },
 "nbformat": 4,
 "nbformat_minor": 5
}
